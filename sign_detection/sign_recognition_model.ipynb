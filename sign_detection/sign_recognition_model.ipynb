{
 "cells": [
  {
   "cell_type": "code",
   "execution_count": null,
   "metadata": {},
   "outputs": [],
   "source": [
    "import tensorflow as tf\n",
    "physical_devices = tf.config.experimental.list_physical_devices('GPU')\n",
    "tf.config.experimental.set_memory_growth(physical_devices[0], True)\n",
    "\n",
    "from tensorflow.keras import layers\n",
    "\n",
    "import cv2\n",
    "import numpy as np\n",
    "import matplotlib.pyplot as plt\n",
    "\n",
    "import pickle\n",
    "import pandas as pd\n",
    "import random\n",
    "\n",
    "SEED_NUM = 6\n",
    "tf.random.set_seed(SEED_NUM)\n",
    "np.random.seed(SEED_NUM)\n",
    "random.seed(SEED_NUM)"
   ]
  },
  {
   "cell_type": "markdown",
   "metadata": {},
   "source": [
    "# Loading the data"
   ]
  },
  {
   "cell_type": "code",
   "execution_count": null,
   "metadata": {},
   "outputs": [],
   "source": [
    "with open(\"data/train.p\", \"rb\") as f: train_data = pickle.load(f)\n",
    "with open(\"data/valid.p\", \"rb\") as f: val_data = pickle.load(f)\n",
    "with open(\"data/test.p\", \"rb\") as f:  test_data = pickle.load(f)\n",
    "\n",
    "x_train, y_train = train_data[\"features\"], train_data[\"labels\"]\n",
    "x_val, y_val = val_data[\"features\"], val_data[\"labels\"]\n",
    "x_test, y_test = test_data[\"features\"], test_data[\"labels\"]\n",
    "\n",
    "print(\"Training samples\", x_train.shape, y_train.shape)\n",
    "print(\"Validation samples\", x_val.shape, y_val.shape)\n",
    "print(\"Testing samples\", x_test.shape, y_test.shape)\n",
    "\n",
    "labels = pd.read_csv(\"sign_names.csv\")\n",
    "num_classes = len(labels[\"ClassId\"])"
   ]
  },
  {
   "cell_type": "markdown",
   "metadata": {},
   "source": [
    "# Data visualisation"
   ]
  },
  {
   "cell_type": "code",
   "execution_count": null,
   "metadata": {},
   "outputs": [],
   "source": [
    "index = 0\n",
    "cols = 5\n",
    "\n",
    "num_of_samples = []  # Number of samples per class.\n",
    "\n",
    "fig, axs = plt.subplots(nrows=num_classes, ncols=cols, figsize=(15, 60))\n",
    "fig.tight_layout()\n",
    "for i in range(cols):\n",
    "    for j, row in labels.iterrows():\n",
    "        index = index + 1\n",
    "        x_selected = x_train[y_train == j]\n",
    "        axs[j][i].imshow(x_selected[random.randint(0,(len(x_selected) - 1)), :, :], cmap=plt.get_cmap('gray'))\n",
    "        #cv2.imwrite(f\"{index}img.jpg\", img)\n",
    "        axs[j][i].axis(\"off\")\n",
    "        if i == 2:\n",
    "            axs[j][i].set_title(str(j) + \"-\" + row[\"SignName\"])\n",
    "            num_of_samples.append(len(x_selected))"
   ]
  },
  {
   "cell_type": "code",
   "execution_count": null,
   "metadata": {},
   "outputs": [],
   "source": [
    "print(\"Number of classes:\", num_classes)\n",
    "print(labels)\n",
    "plt.figure(figsize=(12, 4))\n",
    "plt.bar(range(0, num_classes), num_of_samples)\n",
    "plt.title(\"Distribution of the training dataset\")\n",
    "plt.xlabel(\"Class number\")\n",
    "plt.ylabel(\"Number of images\")"
   ]
  },
  {
   "cell_type": "code",
   "execution_count": null,
   "metadata": {},
   "outputs": [],
   "source": [
    "# Viewing single image.\n",
    "img = x_train[10000]\n",
    "label = y_train[10000]\n",
    "plt.imshow(img)\n",
    "plt.axis(\"off\")\n",
    "print(img.shape, label)"
   ]
  },
  {
   "cell_type": "markdown",
   "metadata": {},
   "source": [
    "# Data pre-processing/cleaning"
   ]
  },
  {
   "cell_type": "code",
   "execution_count": null,
   "metadata": {},
   "outputs": [],
   "source": [
    "def grayscale(img):\n",
    "    img = cv2.cvtColor(img, cv2.COLOR_BGR2GRAY)\n",
    "    return img\n",
    "\n",
    "img1 = grayscale(img)\n",
    "print(img1.shape)\n",
    "plt.imshow(img1, cmap=\"gray\")\n",
    "plt.axis(\"off\")"
   ]
  },
  {
   "cell_type": "code",
   "execution_count": null,
   "metadata": {},
   "outputs": [],
   "source": [
    "def equalize(img):\n",
    "    img = cv2.equalizeHist(img)\n",
    "    return img\n",
    "\n",
    "img2 = equalize(img1)\n",
    "plt.imshow(img2, cmap=\"gray\")"
   ]
  },
  {
   "cell_type": "code",
   "execution_count": null,
   "metadata": {},
   "outputs": [],
   "source": [
    "def preprocessing(img):\n",
    "    img = grayscale(img)\n",
    "    img = equalize(img)\n",
    "    \n",
    "    img = img / 255\n",
    "    \n",
    "    return img"
   ]
  },
  {
   "cell_type": "code",
   "execution_count": null,
   "metadata": {},
   "outputs": [],
   "source": [
    "# Applying preprocessing for all samples.\n",
    "x_train = np.array(list(map(preprocessing, x_train)))\n",
    "x_val = np.array(list(map(preprocessing, x_val)))\n",
    "x_test = np.array(list(map(preprocessing, x_test)))\n",
    "\n",
    "\n",
    "print(x_train.shape)\n",
    "x_train = np.expand_dims(x_train, axis=-1)\n",
    "x_val = np.expand_dims(x_val, axis=-1)\n",
    "x_test = np.expand_dims(x_test, axis=-1)\n",
    "print(x_train.shape)\n",
    "\n",
    "\n",
    "y_train = tf.one_hot(y_train, num_classes).numpy()\n",
    "y_val = tf.one_hot(y_val, num_classes).numpy()\n",
    "y_test = tf.one_hot(y_test, num_classes).numpy()"
   ]
  },
  {
   "cell_type": "code",
   "execution_count": null,
   "metadata": {},
   "outputs": [],
   "source": [
    "plt.imshow(x_train[random.randint(0, len(x_train) - 1)], cmap=\"gray\")"
   ]
  },
  {
   "cell_type": "markdown",
   "metadata": {},
   "source": [
    "# Data Augmentation"
   ]
  },
  {
   "cell_type": "code",
   "execution_count": null,
   "metadata": {},
   "outputs": [],
   "source": [
    "data_gen = tf.keras.preprocessing.image.ImageDataGenerator(width_shift_range = 0.1,\n",
    "                                                           height_shift_range = 0.1,           \n",
    "                                                           zoom_range=0.2,\n",
    "                                                           shear_range=0.1,\n",
    "                                                           rotation_range=10.)\n",
    "data_gen.fit(x_train)"
   ]
  },
  {
   "cell_type": "markdown",
   "metadata": {},
   "source": [
    "# Testing data augmentation"
   ]
  },
  {
   "cell_type": "code",
   "execution_count": null,
   "metadata": {},
   "outputs": [],
   "source": [
    "x_batch, y_batch = next(data_gen.flow(x_train, y_train, batch_size=15))\n",
    "\n",
    "rows = 3\n",
    "cols = 5\n",
    "\n",
    "fig, axis = plt.subplots(rows, cols, figsize=(15, 10))\n",
    "fig.tight_layout()\n",
    "\n",
    "index = 0\n",
    "for i in range(rows):\n",
    "    for j in range(cols):\n",
    "        axis[i, j].imshow(x_batch[index].reshape(32, 32), cmap=\"gray\")\n",
    "        axis[i, j].axis(\"off\")\n",
    "        index += 1"
   ]
  },
  {
   "cell_type": "markdown",
   "metadata": {},
   "source": [
    "# Creating the model"
   ]
  },
  {
   "cell_type": "code",
   "execution_count": null,
   "metadata": {},
   "outputs": [],
   "source": [
    "model = tf.keras.Sequential()\n",
    "\n",
    "model.add(layers.Conv2D(60, 5, input_shape=(32, 32, 1), activation=\"relu\"))\n",
    "model.add(layers.Conv2D(60, 5, activation=\"relu\"))\n",
    "\n",
    "model.add(layers.MaxPooling2D(2))\n",
    "\n",
    "model.add(layers.Conv2D(30, 3, activation=\"relu\"))\n",
    "model.add(layers.Conv2D(30, 3, activation=\"relu\"))\n",
    "\n",
    "model.add(layers.MaxPooling2D(2))\n",
    "#model.add(Dropout(0.5))\n",
    "\n",
    "model.add(layers.Flatten())\n",
    "\n",
    "model.add(layers.Dense(500, activation=\"relu\"))\n",
    "model.add(layers.Dropout(0.5))\n",
    "\n",
    "model.add(layers.Dense(num_classes, activation=\"softmax\"))\n",
    "\n",
    "optimizer = tf.keras.optimizers.Adam(lr=0.0001)\n",
    "\n",
    "model.compile(optimizer, loss=\"categorical_crossentropy\", metrics=[\"accuracy\"])\n",
    "model.summary()"
   ]
  },
  {
   "cell_type": "markdown",
   "metadata": {},
   "source": [
    "# Model training"
   ]
  },
  {
   "cell_type": "code",
   "execution_count": null,
   "metadata": {},
   "outputs": [],
   "source": [
    "BATCH_SIZE = 128\n",
    "EPOCHS = 200\n",
    "\n",
    "history = model.fit_generator(data_gen.flow(x_train, y_train, batch_size=BATCH_SIZE),\n",
    "                              validation_data=(x_val, y_val),\n",
    "                              epochs=EPOCHS)\n",
    "\n",
    "model.save(\"trained_sign_recognition_model.h5\")"
   ]
  },
  {
   "cell_type": "markdown",
   "metadata": {},
   "source": [
    "# Plotting model performance"
   ]
  },
  {
   "cell_type": "code",
   "execution_count": null,
   "metadata": {},
   "outputs": [],
   "source": [
    "plt.figure(figsize=(15, 5))\n",
    "plt.subplot(1, 2, 1)\n",
    "plt.plot(history.history[\"loss\"])\n",
    "plt.plot(history.history[\"val_loss\"])\n",
    "plt.legend([\"training\", \"validation\"])\n",
    "plt.xlabel(\"Epoch\")\n",
    "plt.ylabel(\"Loss\")\n",
    "plt.title(\"Loss plot\")\n",
    "\n",
    "plt.subplot(1, 2, 2)\n",
    "plt.plot(history.history[\"accuracy\"])\n",
    "plt.plot(history.history[\"val_accuracy\"])\n",
    "plt.legend([\"training\", \"validation\"])\n",
    "plt.xlabel(\"Epoch\")\n",
    "plt.ylabel(\"Accuracy\")\n",
    "plt.title(\"Accuracy plot\")"
   ]
  },
  {
   "cell_type": "markdown",
   "metadata": {},
   "source": [
    "# Evaluating/Testing"
   ]
  },
  {
   "cell_type": "code",
   "execution_count": null,
   "metadata": {},
   "outputs": [],
   "source": [
    "score = model.evaluate(x_test, y_test, verbose=0)\n",
    "print(\"Test Accuracy: \", score[1])"
   ]
  },
  {
   "cell_type": "code",
   "execution_count": null,
   "metadata": {
    "scrolled": true
   },
   "outputs": [],
   "source": [
    "cols = 5\n",
    "rows = 5\n",
    "\n",
    "fig, axis = plt.subplots(rows, cols, figsize=(25, 25))\n",
    "fig.tight_layout()\n",
    "\n",
    "rand_index = np.random.choice(x_test.shape[0], cols*rows)\n",
    "idx = 0\n",
    "\n",
    "for i in range(rows):\n",
    "    for j in range(cols):\n",
    "        img = x_test[rand_index[idx]]\n",
    "        actual_label = y_test[rand_index[idx]]\n",
    "        actual_label = (actual_label!=0).argmax(axis=0)\n",
    "        idx += 1\n",
    "\n",
    "        axis[i, j].imshow(img)\n",
    "        axis[i, j].axis(\"off\")\n",
    "        img = img.reshape(1, 32, 32, 1)\n",
    "        prediction = model.predict_classes(img)\n",
    "        axis[i, j].set_title(f\"GT:{labels.iloc[actual_label][1]}\\nPR:{labels.iloc[prediction[0]][1]}\", fontsize=18)"
   ]
  }
 ],
 "metadata": {
  "kernelspec": {
   "display_name": "Python 3",
   "language": "python",
   "name": "python3"
  },
  "language_info": {
   "codemirror_mode": {
    "name": "ipython",
    "version": 3
   },
   "file_extension": ".py",
   "mimetype": "text/x-python",
   "name": "python",
   "nbconvert_exporter": "python",
   "pygments_lexer": "ipython3",
   "version": "3.7.7"
  },
  "varInspector": {
   "cols": {
    "lenName": 16,
    "lenType": 16,
    "lenVar": 40
   },
   "kernels_config": {
    "python": {
     "delete_cmd_postfix": "",
     "delete_cmd_prefix": "del ",
     "library": "var_list.py",
     "varRefreshCmd": "print(var_dic_list())"
    },
    "r": {
     "delete_cmd_postfix": ") ",
     "delete_cmd_prefix": "rm(",
     "library": "var_list.r",
     "varRefreshCmd": "cat(var_dic_list()) "
    }
   },
   "types_to_exclude": [
    "module",
    "function",
    "builtin_function_or_method",
    "instance",
    "_Feature"
   ],
   "window_display": false
  }
 },
 "nbformat": 4,
 "nbformat_minor": 2
}
