{
 "cells": [
  {
   "cell_type": "code",
   "execution_count": null,
   "metadata": {},
   "outputs": [],
   "source": [
    "import numpy as np\n",
    "import matplotlib.pyplot as plt\n",
    "\n",
    "def plot_data(data, axis, frames_lost, y_label, legend_unit, y_lim=[]):\n",
    "    axis.plot(data)\n",
    "    \n",
    "    for frame_lost in frames_lost:\n",
    "        # axis.axvline(x=frame_lost, color=\"r\")\n",
    "        axis.axvline(x=frame_lost, ymin=0.4, ymax=0.6, color=\"r\")\n",
    "        \n",
    "    axis.set_xlabel(\"Frame number\")\n",
    "    axis.set_ylabel(y_label)\n",
    "    axis.set_title(y_label + \" during connection\")\n",
    "    \n",
    "    if y_lim != []:\n",
    "        axis.axis(ymin=y_lim[0], ymax=y_lim[1])\n",
    "    \n",
    "    avrg = round(np.average(data), 2)\n",
    "    axis.legend([\"Avg: \" + str(avrg) + legend_unit], loc=1)\n",
    "\n",
    "\n",
    "def plot_graphs(all_fps, all_delays, all_img_bytes, frames_lost, fps):\n",
    "    fig, axes = plt.subplots(nrows=3, ncols=1, figsize=(8, 12))\n",
    "    \n",
    "    plot_data(all_fps, axes[0], frames_lost, y_label=\"FPS\", legend_unit=\" FPS\", y_lim=[0, 65])\n",
    "    plot_data(all_delays, axes[1], frames_lost, y_label=\"Delay\", legend_unit=\" ms\")\n",
    "    plot_data(all_img_bytes, axes[2], frames_lost, y_label=\"Number of bytes\", legend_unit=\" bytes\")\n",
    "    \n",
    "    fig.tight_layout()\n",
    "    \n",
    "def load_data(file_name, fps):\n",
    "    with open(file_name, \"rb\") as file:\n",
    "        cam_data = np.load(file)\n",
    "        \n",
    "    print(\"Data shape:\", cam_data.shape)\n",
    "    \n",
    "    all_fps = cam_data[0, :]\n",
    "    len_before_rem = all_fps.shape[0]  # Number of FPS stored before zeros removal.\n",
    "    # Removing the zeros, which is present in the first second before obtaining the first average FPS over the first second.\n",
    "    all_fps = all_fps[all_fps != 0]\n",
    "    \n",
    "    \n",
    "    total_frames = all_fps.shape[0]\n",
    "    print(\"Total frames:\", total_frames)\n",
    "    connection_time = round((total_frames / fps) / 60.0, 1)  # Maybe add this to the title of the plots.\n",
    "    print(\"Connection time:\", connection_time, \"minutes\")\n",
    "    \n",
    "    \n",
    "    # Number of FPS stored after zero removal, this is used to match number of samples the other plots.\n",
    "    len_after_rem = all_fps.shape[0]\n",
    "    samples_removed = len_before_rem - len_after_rem\n",
    "\n",
    "    \n",
    "    all_delays = cam_data[1, samples_removed:] * 1000  # Converting to milliseconds.\n",
    "    all_img_bytes = cam_data[2, samples_removed:]\n",
    "    all_img_bytes = all_img_bytes[all_img_bytes != -1]  # Removing all -1 (when frame was not received successfully)\n",
    "    frames_lost = cam_data[3, samples_removed:]\n",
    "    \n",
    "    # Removing the minus one fillers, see testing_cam_connection.py for why.\n",
    "    only_frames_lost = frames_lost[frames_lost != -1]\n",
    "    num_frames_lost = only_frames_lost.shape[0]\n",
    "    print(\"Number of frames lost:\", num_frames_lost)\n",
    "    \n",
    "    success_rate = round(((total_frames-num_frames_lost) / total_frames) * 100, 2)\n",
    "    unsuccess_rate = round(100 - success_rate, 2)\n",
    "    print(\"Percentage of successfully transferred frames:\", success_rate, \"%\")\n",
    "    print(\"Percentage of unsuccessfully transferred frames:\", unsuccess_rate, \"%\")\n",
    "    \n",
    "    return all_fps, all_delays, all_img_bytes, frames_lost, success_rate\n",
    "    \n",
    "        "
   ]
  },
  {
   "cell_type": "markdown",
   "metadata": {},
   "source": [
    "# 30 FPS plots"
   ]
  },
  {
   "cell_type": "markdown",
   "metadata": {},
   "source": [
    "### For 320x240"
   ]
  },
  {
   "cell_type": "code",
   "execution_count": null,
   "metadata": {},
   "outputs": [],
   "source": [
    "all_fps1, all_delays1, all_img_bytes1, frames_lost1, success_rate1 = load_data(\"cam_data_30fps_320x240.npy\", fps=30)\n",
    "plot_graphs(all_fps1, all_delays1, all_img_bytes1, frames_lost1, fps=30)"
   ]
  },
  {
   "cell_type": "markdown",
   "metadata": {},
   "source": [
    "### For 640x480"
   ]
  },
  {
   "cell_type": "code",
   "execution_count": null,
   "metadata": {},
   "outputs": [],
   "source": [
    "all_fps2, all_delays2, all_img_bytes2, frames_lost2, success_rate2 = load_data(\"cam_data_30fps_640x480.npy\", fps=30)\n",
    "plot_graphs(all_fps2, all_delays2, all_img_bytes2, frames_lost2, fps=30)"
   ]
  },
  {
   "cell_type": "markdown",
   "metadata": {},
   "source": [
    "### For 1640x922"
   ]
  },
  {
   "cell_type": "code",
   "execution_count": null,
   "metadata": {},
   "outputs": [],
   "source": [
    "all_fps3, all_delays3, all_img_bytes3, frames_lost3, success_rate3 = load_data(\"cam_data_30fps_1640x922.npy\", fps=30)\n",
    "plot_graphs(all_fps3, all_delays3, all_img_bytes3, frames_lost3, fps=30)"
   ]
  },
  {
   "cell_type": "markdown",
   "metadata": {},
   "source": [
    "### Plotting all 30 FPS plots together for the three resolutions."
   ]
  },
  {
   "cell_type": "code",
   "execution_count": null,
   "metadata": {},
   "outputs": [],
   "source": [
    "# TODO: Make this plotting much cleaner and better!\n",
    "\n",
    "fig, axes = plt.subplots(nrows=3, ncols=1, figsize=(8, 5))\n",
    "\n",
    "fig.tight_layout(pad=3.0)\n",
    "\n",
    "# Plot for (320x240).\n",
    "axis = axes[0]\n",
    "axis.plot(all_fps1, c=\"#4a87ec\")\n",
    "axis.bottom= 5\n",
    "\n",
    "for frame_lost in frames_lost1:\n",
    "    # axis.axvline(x=frame_lost, color=\"r\")\n",
    "    axis.axvline(x=frame_lost, ymin=0.4, ymax=0.6, color=\"r\")\n",
    "\n",
    "avrg = round(np.average(all_fps1), 2)\n",
    "legend_unit = \"FPS\"\n",
    "axis.legend([\"Avg: \" + str(avrg) + legend_unit], loc=1)\n",
    "\n",
    "\n",
    "axis.set_xlabel(\"Frame number\")\n",
    "axis.set_ylabel(\"FPS\")\n",
    "axis.set_title(f\"(320x240) at 30 FPS, {success_rate1}% successfully transferred frames\")\n",
    "\n",
    "axis.axis(ymin=25, ymax=35)\n",
    "\n",
    "\n",
    "\n",
    "# Plot for (640x480).\n",
    "axis = axes[1]\n",
    "axis.plot(all_fps2, c=\"#0bab38\")\n",
    "\n",
    "for frame_lost in frames_lost2:\n",
    "    # axis.axvline(x=frame_lost, color=\"r\")\n",
    "    axis.axvline(x=frame_lost, ymin=0.4, ymax=0.6, color=\"r\")\n",
    "\n",
    "avrg = round(np.average(all_fps2), 2)\n",
    "legend_unit = \"FPS\"\n",
    "axis.legend([\"Avg: \" + str(avrg) + legend_unit], loc=1)\n",
    "\n",
    "\n",
    "axis.set_xlabel(\"Frame number\")\n",
    "axis.set_ylabel(\"FPS\")\n",
    "axis.set_title(f\"(640x480) at 30 FPS, {success_rate2}% successfully transferred frames\")\n",
    "# axis.set_title(\"FPS (640x480) at 30FPS\")\n",
    "axis.axis(ymin=25, ymax=35)\n",
    "\n",
    "\n",
    "\n",
    "# Plot for (1640x922)\n",
    "axis = axes[2] \n",
    "axis.plot(all_fps3, c=\"#e185ff\")\n",
    "\n",
    "for frame_lost in frames_lost3:\n",
    "    # axis.axvline(x=frame_lost, color=\"r\")\n",
    "    axis.axvline(x=frame_lost, ymin=0.4, ymax=0.6, color=\"r\")\n",
    "\n",
    "avrg = round(np.average(all_fps3), 2)\n",
    "legend_unit = \"FPS\"\n",
    "axis.legend([\"Avg: \" + str(avrg) + legend_unit], loc=1)\n",
    "\n",
    "\n",
    "axis.set_xlabel(\"Frame number\")\n",
    "axis.set_ylabel(\"FPS\")\n",
    "axis.set_title(f\"(1640x922) at 30 FPS, {success_rate3} successfully transferred frames\")\n",
    "# axis.set_title(\"FPS (1640x922) at 30FPS\")\n",
    "axis.axis(ymin=25, ymax=35)\n",
    "\n"
   ]
  },
  {
   "cell_type": "markdown",
   "metadata": {},
   "source": [
    "# 60 FPS plots"
   ]
  },
  {
   "cell_type": "markdown",
   "metadata": {},
   "source": [
    "### For 320x240"
   ]
  },
  {
   "cell_type": "code",
   "execution_count": null,
   "metadata": {},
   "outputs": [],
   "source": [
    "all_fps4, all_delays4, all_img_bytes4, frames_lost4, success_rate4 = load_data(\"cam_data_60fps_320x240.npy\", fps=60)\n",
    "plot_graphs(all_fps4, all_delays4, all_img_bytes4, frames_lost4, fps=60)"
   ]
  },
  {
   "cell_type": "markdown",
   "metadata": {},
   "source": [
    "### For 640x480"
   ]
  },
  {
   "cell_type": "code",
   "execution_count": null,
   "metadata": {},
   "outputs": [],
   "source": [
    "all_fps5, all_delays5, all_img_bytes5, frames_lost5, success_rate5 = load_data(\"cam_data_60fps_640x480.npy\", fps=60)\n",
    "plot_graphs(all_fps5, all_delays5, all_img_bytes5, frames_lost5, fps=60)"
   ]
  },
  {
   "cell_type": "markdown",
   "metadata": {},
   "source": [
    "### For 1640x922"
   ]
  },
  {
   "cell_type": "code",
   "execution_count": null,
   "metadata": {},
   "outputs": [],
   "source": [
    "all_fps6, all_delays6, all_img_bytes6, frames_lost6, success_rate6 = load_data(\"cam_data_60fps_1640x922.npy\", fps=60)\n",
    "plot_graphs(all_fps6, all_delays6, all_img_bytes6, frames_lost6, fps=60)"
   ]
  },
  {
   "cell_type": "markdown",
   "metadata": {},
   "source": [
    "### Plotting all 60 FPS plots together for the three resolutions."
   ]
  },
  {
   "cell_type": "code",
   "execution_count": null,
   "metadata": {},
   "outputs": [],
   "source": [
    "fig, axes = plt.subplots(nrows=3, ncols=1, figsize=(8, 5))\n",
    "\n",
    "fig.tight_layout(pad=3.0)\n",
    "\n",
    "axis = axes[0]\n",
    "axis.plot(all_fps4, c=\"#4a87ec\")\n",
    "axis.bottom= 5\n",
    "\n",
    "for frame_lost in frames_lost4:\n",
    "    # axis.axvline(x=frame_lost, color=\"r\")\n",
    "    axis.axvline(x=frame_lost, ymin=0.4, ymax=0.6, color=\"r\")\n",
    "\n",
    "avrg = round(np.average(all_fps4), 2)\n",
    "legend_unit = \"FPS\"\n",
    "axis.legend([\"Avg: \" + str(avrg) + legend_unit], loc=1)\n",
    "\n",
    "\n",
    "axis.set_xlabel(\"Frame number\")\n",
    "axis.set_ylabel(\"FPS\")\n",
    "axis.set_title(f\"(320x240) at 60 FPS, {success_rate4}% successfully transferred frames\")\n",
    "\n",
    "axis.axis(ymin=55, ymax=65)\n",
    "\n",
    "\n",
    "\n",
    "\n",
    "axis = axes[1]\n",
    "axis.plot(all_fps5, c=\"#0bab38\")\n",
    "\n",
    "for frame_lost in frames_lost5:\n",
    "    # axis.axvline(x=frame_lost, color=\"r\")\n",
    "    axis.axvline(x=frame_lost, ymin=0.4, ymax=0.6, color=\"r\")\n",
    "\n",
    "avrg = round(np.average(all_fps5), 2)\n",
    "legend_unit = \"FPS\"\n",
    "axis.legend([\"Avg: \" + str(avrg) + legend_unit], loc=1)\n",
    "\n",
    "\n",
    "axis.set_xlabel(\"Frame number\")\n",
    "axis.set_ylabel(\"FPS\")\n",
    "axis.set_title(f\"(640x480) at 60 FPS, {success_rate5}% successfully transferred frames\")\n",
    "# axis.set_title(\"FPS (640x480) at 30FPS\")\n",
    "axis.axis(ymin=55, ymax=65)\n",
    "\n",
    "\n",
    "\n",
    "\n",
    "axis = axes[2]\n",
    "axis.plot(all_fps6, c=\"#e185ff\")\n",
    "\n",
    "for frame_lost in frames_lost6:\n",
    "    # axis.axvline(x=frame_lost, color=\"r\")\n",
    "    axis.axvline(x=frame_lost, ymin=0.4, ymax=0.6, color=\"r\")\n",
    "\n",
    "avrg = round(np.average(all_fps6), 2)\n",
    "legend_unit = \"FPS\"\n",
    "axis.legend([\"Avg: \" + str(avrg) + legend_unit], loc=1)\n",
    "\n",
    "\n",
    "axis.set_xlabel(\"Frame number\")\n",
    "axis.set_ylabel(\"FPS\")\n",
    "axis.set_title(f\"(1640x922) at 60 FPS, {success_rate6} successfully transferred frames\")\n",
    "# axis.set_title(\"FPS (1640x922) at 30FPS\")\n",
    "axis.axis(ymin=25, ymax=35)\n",
    "\n"
   ]
  }
 ],
 "metadata": {
  "kernelspec": {
   "display_name": "Python [conda env:tf_gpu] *",
   "language": "python",
   "name": "conda-env-tf_gpu-py"
  },
  "language_info": {
   "codemirror_mode": {
    "name": "ipython",
    "version": 3
   },
   "file_extension": ".py",
   "mimetype": "text/x-python",
   "name": "python",
   "nbconvert_exporter": "python",
   "pygments_lexer": "ipython3",
   "version": "3.7.7"
  },
  "varInspector": {
   "cols": {
    "lenName": 16,
    "lenType": 16,
    "lenVar": 40
   },
   "kernels_config": {
    "python": {
     "delete_cmd_postfix": "",
     "delete_cmd_prefix": "del ",
     "library": "var_list.py",
     "varRefreshCmd": "print(var_dic_list())"
    },
    "r": {
     "delete_cmd_postfix": ") ",
     "delete_cmd_prefix": "rm(",
     "library": "var_list.r",
     "varRefreshCmd": "cat(var_dic_list()) "
    }
   },
   "types_to_exclude": [
    "module",
    "function",
    "builtin_function_or_method",
    "instance",
    "_Feature"
   ],
   "window_display": false
  }
 },
 "nbformat": 4,
 "nbformat_minor": 4
}
