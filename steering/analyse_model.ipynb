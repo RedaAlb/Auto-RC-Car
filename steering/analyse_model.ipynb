{
 "cells": [
  {
   "cell_type": "code",
   "execution_count": null,
   "metadata": {},
   "outputs": [],
   "source": [
    "import tensorflow as tf\n",
    "\n",
    "physical_devices = tf.config.experimental.list_physical_devices('GPU')\n",
    "tf.config.experimental.set_memory_growth(physical_devices[0], True)\n",
    "\n",
    "from tensorflow.keras.models import load_model\n",
    "import matplotlib.pyplot as plt\n",
    "import cv2\n",
    "import numpy as np\n",
    "\n",
    "from data_sequence import DataSequence\n",
    "data_seq = DataSequence()\n",
    "\n",
    "# To plot output of a layer.\n",
    "def plot_layer_output(model, layer_i, x_batch, y_batch, img_idx=0, rows=6, cols=6):\n",
    "    layer = tf.keras.Model(inputs=model.layers[0].input, outputs=model.layers[layer_i].output)\n",
    "    layer_visual = layer.predict(x_batch)\n",
    "    print(layer_visual.shape)\n",
    "\n",
    "    plt.figure(1, figsize=(20, 15))\n",
    "    for i in range(layer_visual.shape[3]):\n",
    "        \n",
    "        if i > (rows*cols) - 1:\n",
    "            break\n",
    "            \n",
    "        plt.subplot(rows, cols, i+1)\n",
    "        img = layer_visual[img_idx, :, :, i]\n",
    "        plt.imshow(img, cmap=\"jet\")\n",
    "        # plt.title(str(y_batch[i]))\n",
    "        plt.axis(\"off\")\n",
    "        \n",
    "        plt.colorbar()\n",
    "        \n",
    "# To plot loss and accuracy plots.\n",
    "def plot_loss_acc(history):\n",
    "    plt.figure(figsize=(15, 5))\n",
    "    plt.subplot(1, 2, 1)\n",
    "    plt.plot(history[0])\n",
    "    plt.plot(history[2])\n",
    "    plt.legend([\"training\", \"validation\"])\n",
    "    plt.xlabel(\"Epoch\")\n",
    "    plt.ylabel(\"Loss\")\n",
    "    plt.title(\"Loss plot\")\n",
    "\n",
    "    plt.subplot(1, 2, 2)\n",
    "    plt.plot(history[1])\n",
    "    plt.plot(history[3])\n",
    "    plt.legend([\"training\", \"validation\"])\n",
    "    plt.xlabel(\"Epoch\")\n",
    "    plt.ylabel(\"Accuracy\")\n",
    "    plt.title(\"Accuracy plot\")\n"
   ]
  },
  {
   "cell_type": "code",
   "execution_count": null,
   "metadata": {},
   "outputs": [],
   "source": [
    "MODELS = [\"forward\", \"left\", \"right\"]  # Also represents the class names.\n",
    "MODEL_I = 0  # Model index, determines which module to analyse, chosen from MODELS.\n",
    "\n",
    "MODEL_TO_LOAD = \"3_0_8_oldModel_baseL_moreEpochs\"\n",
    "\n",
    "EXTRA_DATA_SUBNAME = \"\"\n",
    "\n",
    "BATCH_SIZE = 32\n",
    "\n",
    "IMGS_SHAPE = (240, 320, 3)\n",
    "\n",
    "\n",
    "with open(f\"data/steering_frames_{MODELS[MODEL_I]}{EXTRA_DATA_SUBNAME}.npy\", \"rb\") as file:\n",
    "    all_x_data = np.load(file).astype(np.float32)\n",
    "with open(f\"data/steering_labels_{MODELS[MODEL_I]}{EXTRA_DATA_SUBNAME}.npy\", \"rb\") as file:\n",
    "    all_y_data = np.load(file)\n",
    "    \n",
    "\n",
    "rand_indicies = np.random.choice(all_x_data.shape[0], size=BATCH_SIZE, replace=False)\n",
    "x_sample_batch = all_x_data[rand_indicies]\n",
    "y_sample_batch = all_y_data[rand_indicies]\n",
    "x_sample_batch, y_sample_batch = data_seq.pre_process_data(x_data=x_sample_batch, y_data=y_sample_batch)\n",
    "\n",
    "\n",
    "model = load_model(f\"saved_models/model_{MODELS[MODEL_I][:1]}_{MODEL_TO_LOAD}.h5\")\n",
    "model.summary()\n",
    "\n",
    "with open(f\"saved_models/history_{MODELS[MODEL_I][:1]}_{MODEL_TO_LOAD}.npy\", \"rb\") as file:\n",
    "    history = np.load(file)\n",
    "\n",
    "plot_loss_acc(history)"
   ]
  },
  {
   "cell_type": "markdown",
   "metadata": {},
   "source": [
    "# Visualise layer ouputs"
   ]
  },
  {
   "cell_type": "code",
   "execution_count": null,
   "metadata": {},
   "outputs": [],
   "source": [
    "img_idx = 0\n",
    "\n",
    "plot_layer_output(model, 0, x_sample_batch, y_sample_batch, img_idx=img_idx)"
   ]
  },
  {
   "cell_type": "code",
   "execution_count": null,
   "metadata": {},
   "outputs": [],
   "source": [
    "plot_layer_output(model, 1, x_sample_batch, y_sample_batch, img_idx=img_idx)"
   ]
  },
  {
   "cell_type": "code",
   "execution_count": null,
   "metadata": {},
   "outputs": [],
   "source": [
    "plot_layer_output(model, 2, x_sample_batch, y_sample_batch, img_idx=img_idx)"
   ]
  },
  {
   "cell_type": "code",
   "execution_count": null,
   "metadata": {},
   "outputs": [],
   "source": [
    "plot_layer_output(model, 3, x_sample_batch, y_sample_batch, img_idx=img_idx)"
   ]
  },
  {
   "cell_type": "code",
   "execution_count": null,
   "metadata": {},
   "outputs": [],
   "source": [
    "plot_layer_output(model, 4, x_sample_batch, y_sample_batch, img_idx=img_idx)"
   ]
  },
  {
   "cell_type": "code",
   "execution_count": null,
   "metadata": {},
   "outputs": [],
   "source": [
    "plot_layer_output(model, 5, x_sample_batch, y_sample_batch, img_idx=img_idx)"
   ]
  },
  {
   "cell_type": "code",
   "execution_count": null,
   "metadata": {},
   "outputs": [],
   "source": [
    "plot_layer_output(model, 7, x_sample_batch, y_sample_batch, img_idx=img_idx)"
   ]
  },
  {
   "cell_type": "markdown",
   "metadata": {},
   "source": [
    "# Excracting the samples that were predicted incorrectly."
   ]
  },
  {
   "cell_type": "code",
   "execution_count": null,
   "metadata": {},
   "outputs": [],
   "source": [
    "n_wrong_samples = 0\n",
    "wrong_imgs = []\n",
    "wrong_imgs_labels = []\n",
    "\n",
    "for i, img in enumerate(all_x_data):\n",
    "    label = int(all_y_data[i]) - 1\n",
    "    \n",
    "    processed_input = data_seq.pre_process_input(img, model.inputs, convert_to_rgb=False)\n",
    "    \n",
    "    pred = model.predict(processed_input)\n",
    "    pred = np.argmax(pred[0])\n",
    "    \n",
    "    if label != pred:\n",
    "        n_wrong_samples += 1\n",
    "        wrong_imgs.append(img)\n",
    "        wrong_imgs_labels.append([label, pred])\n",
    "        \n",
    "    if i % 1000 == 0:\n",
    "        print(\"Done\", i, n_wrong_samples)\n",
    "        \n",
    "\n",
    "print(\"Number of wrong samples\", n_wrong_samples)\n",
    "\n",
    "wrong_imgs = np.array(wrong_imgs)\n",
    "wrong_imgs_labels = np.array(wrong_imgs_labels)\n",
    "\n",
    "print(wrong_imgs.shape)\n",
    "print(wrong_imgs_labels.shape)\n",
    "\n",
    "error_in_acc = n_wrong_samples / all_x_data.shape[0]\n",
    "print((error_in_acc * 100), \"error\")\n",
    "print(((1 - error_in_acc) * 100), \"accuracy\")\n",
    "\n",
    "# If needed at a later stage.\n",
    "with open(f\"data/wrong_samples/wrong_imgs_{MODEL_TO_LOAD}.npy\", \"wb\") as file: np.save(file, wrong_imgs)\n",
    "with open(f\"data/wrong_samples/wrong_imgs_labels{MODEL_TO_LOAD}.npy\", \"wb\") as file: np.save(file, wrong_imgs_labels)\n",
    "print(\"Saved\")"
   ]
  },
  {
   "cell_type": "markdown",
   "metadata": {},
   "source": [
    "### Visualising the wrong samples"
   ]
  },
  {
   "cell_type": "code",
   "execution_count": null,
   "metadata": {},
   "outputs": [],
   "source": [
    "index = 0\n",
    "while True:\n",
    "    if index >= wrong_imgs.shape[0]: break\n",
    "    \n",
    "    img = wrong_imgs[index]\n",
    "    label_pred = wrong_imgs_labels[index]\n",
    "    index += 1\n",
    "    \n",
    "    \n",
    "    cv2.putText(img, str(label_pred), (50, 50), cv2.FONT_HERSHEY_PLAIN, 1, (0, 0, 255), thickness=3)\n",
    "    \n",
    "    cv2.imshow(\"Wrong images\", img)\n",
    "    \n",
    "    if cv2.waitKey(30) == ord('q'):\n",
    "        break\n",
    "\n",
    "        \n",
    "cv2.destroyAllWindows()"
   ]
  }
 ],
 "metadata": {
  "kernelspec": {
   "display_name": "Python [conda env:tf_gpu] *",
   "language": "python",
   "name": "conda-env-tf_gpu-py"
  },
  "language_info": {
   "codemirror_mode": {
    "name": "ipython",
    "version": 3
   },
   "file_extension": ".py",
   "mimetype": "text/x-python",
   "name": "python",
   "nbconvert_exporter": "python",
   "pygments_lexer": "ipython3",
   "version": "3.7.7"
  },
  "varInspector": {
   "cols": {
    "lenName": 16,
    "lenType": 16,
    "lenVar": 40
   },
   "kernels_config": {
    "python": {
     "delete_cmd_postfix": "",
     "delete_cmd_prefix": "del ",
     "library": "var_list.py",
     "varRefreshCmd": "print(var_dic_list())"
    },
    "r": {
     "delete_cmd_postfix": ") ",
     "delete_cmd_prefix": "rm(",
     "library": "var_list.r",
     "varRefreshCmd": "cat(var_dic_list()) "
    }
   },
   "types_to_exclude": [
    "module",
    "function",
    "builtin_function_or_method",
    "instance",
    "_Feature"
   ],
   "window_display": false
  }
 },
 "nbformat": 4,
 "nbformat_minor": 4
}
