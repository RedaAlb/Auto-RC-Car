{
 "cells": [
  {
   "cell_type": "code",
   "execution_count": null,
   "metadata": {},
   "outputs": [],
   "source": [
    "import cv2\n",
    "import numpy as np\n",
    "import matplotlib.pyplot as plt"
   ]
  },
  {
   "cell_type": "code",
   "execution_count": null,
   "metadata": {},
   "outputs": [],
   "source": [
    "MODELS = [\"forward\", \"left\", \"right\"]\n",
    "MODEL_I = 1\n",
    "\n",
    "EXTRA_DATA_SUBNAME = \"LExtra\"\n",
    "CONVERT_TO_RGB = False\n",
    "\n",
    "# Loading the main data source.\n",
    "with open(f\"data/steering_frames_{MODELS[MODEL_I]}.npy\", \"rb\") as file:\n",
    "    main_frames = np.load(file)  # Where main denotes the main data source.\n",
    "    \n",
    "# Loading the secondary data source.\n",
    "with open(f\"data/steering_frames_{MODELS[MODEL_I]}_{EXTRA_DATA_SUBNAME}.npy\", \"rb\") as file:\n",
    "    extra_frames = np.load(file)\n",
    "    if CONVERT_TO_RGB:\n",
    "        extra_frames = extra_frames[:, :, :, ::-1]\n",
    "\n",
    "with open(f\"data/steering_labels_{MODELS[MODEL_I]}.npy\", \"rb\") as file:\n",
    "    main_labels = np.load(file)\n",
    "with open(f\"data/steering_labels_{MODELS[MODEL_I]}_{EXTRA_DATA_SUBNAME}.npy\", \"rb\") as file:\n",
    "    extra_labels = np.load(file)\n",
    "    \n",
    "print(main_frames.shape, main_labels.shape)\n",
    "print(extra_frames.shape, extra_labels.shape)"
   ]
  },
  {
   "cell_type": "code",
   "execution_count": null,
   "metadata": {},
   "outputs": [],
   "source": [
    "plt.imshow(main_frames[0])"
   ]
  },
  {
   "cell_type": "code",
   "execution_count": null,
   "metadata": {},
   "outputs": [],
   "source": [
    "plt.imshow(extra_frames[0])"
   ]
  },
  {
   "cell_type": "code",
   "execution_count": null,
   "metadata": {},
   "outputs": [],
   "source": [
    "# View the extra data.\n",
    "\n",
    "index = 0\n",
    "while True:\n",
    "    img = extra_frames[index]\n",
    "    label = extra_labels[index]\n",
    "    index += 1\n",
    "    \n",
    "    #print(label)\n",
    "    #img = cv2.putText(img, str(label), (10, 30), cv2.FONT_HERSHEY_PLAIN, 2, (0, 0, 255), thickness=3)\n",
    "    \n",
    "    cv2.imshow(\"imgs\", img)\n",
    "    \n",
    "    if cv2.waitKey(30) == ord('q'):\n",
    "        break\n",
    "        \n",
    "cv2.destroyAllWindows()"
   ]
  },
  {
   "cell_type": "markdown",
   "metadata": {},
   "source": [
    "# Fill1, excract left and right samples from the secondary source and add it to the main data source. "
   ]
  },
  {
   "cell_type": "code",
   "execution_count": null,
   "metadata": {},
   "outputs": [],
   "source": [
    "left_frames = []\n",
    "right_frames = []\n",
    "\n",
    "for i in range(extra_frames.shape[0]):\n",
    "    img = extra_frames[i]\n",
    "    label = int(extra_labels[i])\n",
    "    \n",
    "    if label == 2:\n",
    "        left_frames.append(img)\n",
    "    elif label == 3:\n",
    "        right_frames.append(img)\n",
    "        \n",
    "left_frames = np.array(left_frames)\n",
    "right_frames = np.array(right_frames)\n",
    "print(left_frames.shape)\n",
    "print(right_frames.shape)"
   ]
  },
  {
   "cell_type": "code",
   "execution_count": null,
   "metadata": {},
   "outputs": [],
   "source": [
    "main_frames = np.vstack((main_frames, left_frames))\n",
    "extra_left_labels = np.array([2 for i in range(left_frames.shape[0])])\n",
    "main_labels = np.hstack((main_labels, extra_left_labels))\n",
    "print(main_frames.shape, main_labels.shape)"
   ]
  },
  {
   "cell_type": "code",
   "execution_count": null,
   "metadata": {},
   "outputs": [],
   "source": [
    "main_frames = np.vstack((main_frames, right_frames))\n",
    "extra_right_labels = np.array([3 for i in range(right_frames.shape[0])])\n",
    "main_labels = np.hstack((main_labels, extra_right_labels))\n",
    "print(main_frames.shape, main_labels.shape)"
   ]
  },
  {
   "cell_type": "code",
   "execution_count": null,
   "metadata": {},
   "outputs": [],
   "source": [
    "# Saving the numpy arrays/data.\n",
    "with open(f\"data/steering_frames_{MODELS[MODEL_I]}_fill1.npy\", \"wb\") as file: np.save(file, main_frames)\n",
    "with open(f\"data/steering_labels_{MODELS[MODEL_I]}_fill1.npy\", \"wb\") as file: np.save(file, main_labels)"
   ]
  },
  {
   "cell_type": "markdown",
   "metadata": {},
   "source": [
    "# Fill2, excracting the left and right samples in the main data source, flipping and adding back to the main source data."
   ]
  },
  {
   "cell_type": "code",
   "execution_count": null,
   "metadata": {},
   "outputs": [],
   "source": [
    "left_frames = []\n",
    "right_frames = []\n",
    "\n",
    "for i in range(main_frames.shape[0]):\n",
    "    img = main_frames[i]\n",
    "    label = int(main_labels[i])\n",
    "    \n",
    "    if label == 2:\n",
    "        left_frames.append(img)\n",
    "    elif label == 3:\n",
    "        right_frames.append(img)\n",
    "        \n",
    "left_frames = np.array(left_frames)\n",
    "right_frames = np.array(right_frames)\n",
    "print(left_frames.shape)\n",
    "print(right_frames.shape)"
   ]
  },
  {
   "cell_type": "code",
   "execution_count": null,
   "metadata": {},
   "outputs": [],
   "source": [
    "plt.imshow(left_frames[0])\n",
    "plt.figure()\n",
    "plt.imshow(right_frames[0])"
   ]
  },
  {
   "cell_type": "code",
   "execution_count": null,
   "metadata": {},
   "outputs": [],
   "source": [
    "new_left_samples = right_frames[:, :, ::-1, :]\n",
    "new_right_samples = left_frames[:, :, ::-1, :]"
   ]
  },
  {
   "cell_type": "code",
   "execution_count": null,
   "metadata": {},
   "outputs": [],
   "source": [
    "plt.imshow(new_left_samples[0])\n",
    "plt.figure()\n",
    "plt.imshow(new_right_samples[0])"
   ]
  },
  {
   "cell_type": "code",
   "execution_count": null,
   "metadata": {},
   "outputs": [],
   "source": [
    "main_frames = np.vstack((main_frames, new_left_samples))\n",
    "extra_left_labels = np.array([2 for i in range(new_left_samples.shape[0])])\n",
    "main_labels = np.hstack((main_labels, extra_left_labels))\n",
    "print(main_frames.shape, main_labels.shape)"
   ]
  },
  {
   "cell_type": "code",
   "execution_count": null,
   "metadata": {},
   "outputs": [],
   "source": [
    "main_frames = np.vstack((main_frames, new_right_samples))\n",
    "extra_right_labels = np.array([3 for i in range(new_right_samples.shape[0])])\n",
    "main_labels = np.hstack((main_labels, extra_right_labels))\n",
    "print(main_frames.shape, main_labels.shape)"
   ]
  },
  {
   "cell_type": "code",
   "execution_count": null,
   "metadata": {},
   "outputs": [],
   "source": [
    "# Saving the numpy arrays/data\n",
    "with open(f\"data/steering_frames_{MODELS[MODEL_I]}_fill2.npy\", \"wb\") as file: np.save(file, main_frames)\n",
    "with open(f\"data/steering_labels_{MODELS[MODEL_I]}_fill2.npy\", \"wb\") as file: np.save(file, main_labels)"
   ]
  },
  {
   "cell_type": "markdown",
   "metadata": {},
   "source": [
    "# Concatenate two data sources together"
   ]
  },
  {
   "cell_type": "code",
   "execution_count": null,
   "metadata": {},
   "outputs": [],
   "source": [
    "print(main_frames.shape, main_labels.shape)\n",
    "print(extra_frames.shape, extra_labels.shape)\n",
    "\n",
    "combined_frames = np.vstack((main_frames, extra_frames))\n",
    "combined_labels = np.hstack((main_labels, extra_labels))\n",
    "\n",
    "print(combined_frames.shape, combined_labels.shape)"
   ]
  },
  {
   "cell_type": "code",
   "execution_count": null,
   "metadata": {},
   "outputs": [],
   "source": [
    "# Saving the numpy arrays/data\n",
    "with open(f\"data/steering_frames_{MODELS[MODEL_I]}_newDD_LFilled.npy\", \"wb\") as file: np.save(file, combined_frames)\n",
    "with open(f\"data/steering_labels_{MODELS[MODEL_I]}_newDD_LFilled.npy\", \"wb\") as file: np.save(file, combined_labels)"
   ]
  }
 ],
 "metadata": {
  "kernelspec": {
   "display_name": "Python 3",
   "language": "python",
   "name": "python3"
  },
  "language_info": {
   "codemirror_mode": {
    "name": "ipython",
    "version": 3
   },
   "file_extension": ".py",
   "mimetype": "text/x-python",
   "name": "python",
   "nbconvert_exporter": "python",
   "pygments_lexer": "ipython3",
   "version": "3.7.7"
  },
  "varInspector": {
   "cols": {
    "lenName": 16,
    "lenType": 16,
    "lenVar": 40
   },
   "kernels_config": {
    "python": {
     "delete_cmd_postfix": "",
     "delete_cmd_prefix": "del ",
     "library": "var_list.py",
     "varRefreshCmd": "print(var_dic_list())"
    },
    "r": {
     "delete_cmd_postfix": ") ",
     "delete_cmd_prefix": "rm(",
     "library": "var_list.r",
     "varRefreshCmd": "cat(var_dic_list()) "
    }
   },
   "types_to_exclude": [
    "module",
    "function",
    "builtin_function_or_method",
    "instance",
    "_Feature"
   ],
   "window_display": false
  }
 },
 "nbformat": 4,
 "nbformat_minor": 4
}
