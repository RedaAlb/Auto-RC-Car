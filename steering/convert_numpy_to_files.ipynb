{
 "cells": [
  {
   "cell_type": "code",
   "execution_count": 1,
   "metadata": {},
   "outputs": [],
   "source": [
    "import cv2\n",
    "import numpy as np\n",
    "import os"
   ]
  },
  {
   "cell_type": "markdown",
   "metadata": {},
   "source": [
    "# Creating the directory structure"
   ]
  },
  {
   "cell_type": "code",
   "execution_count": 18,
   "metadata": {},
   "outputs": [
    {
     "name": "stdout",
     "output_type": "stream",
     "text": [
      "Data folder already exists\n"
     ]
    }
   ],
   "source": [
    "MAIN_DATA_DIR = \"data\"\n",
    "PARENT_DIRS = [\"forward_model_data\", \"left_model_data\", \"right_model_data\"]\n",
    "CHILD_DIRS = [\"class1_forward\", \"class2_left\", \"class3_right\"]\n",
    "\n",
    "try:\n",
    "    os.makedirs(MAIN_DATA_DIR)\n",
    "except FileExistsError:\n",
    "    print(\"Data folder already exists\")\n",
    "\n",
    "for parent_dir in PARENT_DIRS:\n",
    "    for child_dir in CHILD_DIRS:\n",
    "        try:\n",
    "            os.makedirs(f\"{MAIN_DATA_DIR}/{parent_dir}/{child_dir}\")\n",
    "        except FileExistsError:\n",
    "            print(f\"{MAIN_DATA_DIR}/{parent_dir}/{child_dir} already exists\")"
   ]
  },
  {
   "cell_type": "markdown",
   "metadata": {},
   "source": [
    "# Converting numpy arrays(images) to files"
   ]
  },
  {
   "cell_type": "code",
   "execution_count": 22,
   "metadata": {},
   "outputs": [
    {
     "name": "stdout",
     "output_type": "stream",
     "text": [
      "(7195, 240, 320, 3) samples (7195,) labels\n"
     ]
    }
   ],
   "source": [
    "MODELS = [\"forward\", \"left\", \"right\"]\n",
    "MODEL_I = 0  # Model index, which model data to convert, (chosen from MODELS).\n",
    "\n",
    "with open(f\"data/steering_frames_{MODELS[MODEL_I]}.npy\", \"rb\") as file:\n",
    "    steering_frames = np.load(file)\n",
    "\n",
    "with open(f\"data/steering_labels_{MODELS[MODEL_I]}.npy\", \"rb\") as file:\n",
    "    steering_labels = np.load(file)\n",
    "\n",
    "print(steering_frames.shape, \"samples\", steering_labels.shape, \"labels\")\n",
    "    \n",
    "for i, frame in enumerate(steering_frames):\n",
    "    label = steering_labels[i]\n",
    "    img_path = f\"{MAIN_DATA_DIR}/{PARENT_DIRS[MODEL_I]}/{CHILD_DIRS[label-1]}/{i}.png\"\n",
    "    \n",
    "    cv2.imwrite(img_path, frame)\n",
    "\n",
    "print(\"Done\")"
   ]
  }
 ],
 "metadata": {
  "kernelspec": {
   "display_name": "Python [conda env:tf_gpu] *",
   "language": "python",
   "name": "conda-env-tf_gpu-py"
  },
  "language_info": {
   "codemirror_mode": {
    "name": "ipython",
    "version": 3
   },
   "file_extension": ".py",
   "mimetype": "text/x-python",
   "name": "python",
   "nbconvert_exporter": "python",
   "pygments_lexer": "ipython3",
   "version": "3.7.7"
  },
  "varInspector": {
   "cols": {
    "lenName": 16,
    "lenType": 16,
    "lenVar": 40
   },
   "kernels_config": {
    "python": {
     "delete_cmd_postfix": "",
     "delete_cmd_prefix": "del ",
     "library": "var_list.py",
     "varRefreshCmd": "print(var_dic_list())"
    },
    "r": {
     "delete_cmd_postfix": ") ",
     "delete_cmd_prefix": "rm(",
     "library": "var_list.r",
     "varRefreshCmd": "cat(var_dic_list()) "
    }
   },
   "types_to_exclude": [
    "module",
    "function",
    "builtin_function_or_method",
    "instance",
    "_Feature"
   ],
   "window_display": false
  }
 },
 "nbformat": 4,
 "nbformat_minor": 4
}
