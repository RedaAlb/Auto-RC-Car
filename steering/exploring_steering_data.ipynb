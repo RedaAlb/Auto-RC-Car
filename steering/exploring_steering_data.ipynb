{
 "cells": [
  {
   "cell_type": "code",
   "execution_count": 1,
   "metadata": {},
   "outputs": [],
   "source": [
    "import numpy as np\n",
    "import cv2\n",
    "\n",
    "# THIS FILE IS YET TO BE DONE/COMPLETED"
   ]
  },
  {
   "cell_type": "markdown",
   "metadata": {},
   "source": [
    "# Loading the data"
   ]
  },
  {
   "cell_type": "code",
   "execution_count": 2,
   "metadata": {
    "tags": []
   },
   "outputs": [
    {
     "output_type": "stream",
     "name": "stdout",
     "text": "(196, 240, 320, 3)\n(196,)\n"
    }
   ],
   "source": [
    "with open(\"data/steering_frames.npy\", \"rb\") as file:\n",
    "    steering_frames = np.load(file)\n",
    "\n",
    "print(steering_frames.shape)\n",
    "\n",
    "with open(\"data/steering_labels.npy\", \"rb\") as file:\n",
    "    steering_labels = np.load(file)\n",
    "\n",
    "print(steering_labels.shape)"
   ]
  },
  {
   "cell_type": "code",
   "execution_count": 4,
   "metadata": {},
   "outputs": [],
   "source": [
    "i = 0\n",
    "while True:\n",
    "\n",
    "    if i >= steering_frames.shape[0]:\n",
    "        break\n",
    "\n",
    "    frame = steering_frames[i]\n",
    "    label = steering_labels[i]\n",
    "    i += 1\n",
    "\n",
    "    frame = cv2.putText(frame, str(label), (30, 30), cv2.FONT_HERSHEY_PLAIN, 2, (0, 0, 255), thickness=3)\n",
    "\n",
    "    cv2.imshow(\"frame\", frame)\n",
    "\n",
    "    if cv2.waitKey(30) == ord('q'):\n",
    "        break\n",
    "\n",
    "cv2.destroyAllWindows()"
   ]
  }
 ],
 "metadata": {
  "language_info": {
   "codemirror_mode": {
    "name": "ipython",
    "version": 3
   },
   "file_extension": ".py",
   "mimetype": "text/x-python",
   "name": "python",
   "nbconvert_exporter": "python",
   "pygments_lexer": "ipython3",
   "version": "3.6.10-final"
  },
  "orig_nbformat": 2,
  "kernelspec": {
   "name": "python361064bittfgpu2conda822001873f13490e9d0dea80ebe8f89f",
   "display_name": "Python 3.6.10 64-bit ('tf_gpu2': conda)"
  }
 },
 "nbformat": 4,
 "nbformat_minor": 2
}