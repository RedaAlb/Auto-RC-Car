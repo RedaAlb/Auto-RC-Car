{
 "cells": [
  {
   "cell_type": "code",
   "execution_count": 5,
   "metadata": {},
   "outputs": [],
   "source": [
    "import numpy as np\n",
    "import cv2\n",
    "\n",
    "# THIS FILE IS YET TO BE DONE/COMPLETED"
   ]
  },
  {
   "cell_type": "markdown",
   "metadata": {},
   "source": [
    "# Loading the data"
   ]
  },
  {
   "cell_type": "code",
   "execution_count": 6,
   "metadata": {
    "tags": []
   },
   "outputs": [
    {
     "output_type": "stream",
     "name": "stdout",
     "text": "(80, 240, 320, 3) forward samples (80,) forward labels\n(154, 240, 320, 3) left samples    (154,) left labels\n(194, 240, 320, 3) right samples   (194,) right labels\n"
    }
   ],
   "source": [
    "with open(\"data/steering_frames_forward.npy\", \"rb\") as file: steering_frames_forward = np.load(file)\n",
    "with open(\"data/steering_frames_left.npy\", \"rb\") as file: steering_frames_left = np.load(file)\n",
    "with open(\"data/steering_frames_right.npy\", \"rb\") as file: steering_frames_right = np.load(file)\n",
    "\n",
    "\n",
    "with open(\"data/steering_labels_forward.npy\", \"rb\") as file: steering_labels_forward = np.load(file)\n",
    "with open(\"data/steering_labels_left.npy\", \"rb\") as file: steering_labels_left = np.load(file)\n",
    "with open(\"data/steering_labels_right.npy\", \"rb\") as file: steering_labels_right = np.load(file)\n",
    "\n",
    "print(steering_frames_forward.shape, \"forward samples\", steering_labels_forward.shape, \"forward labels\")\n",
    "print(steering_frames_left.shape, \"left samples   \", steering_labels_left.shape, \"left labels\")\n",
    "print(steering_frames_right.shape, \"right samples  \", steering_labels_right.shape, \"right labels\")\n",
    "\n",
    "n_samples_f = steering_labels_forward.shape[0]  # Number of samples for forward mode.\n",
    "n_samples_l = steering_labels_left.shape[0]\n",
    "n_samples_r = steering_labels_right.shape[0]"
   ]
  },
  {
   "cell_type": "markdown",
   "metadata": {},
   "source": [
    "# Displaying the frames"
   ]
  },
  {
   "cell_type": "code",
   "execution_count": 7,
   "metadata": {
    "tags": []
   },
   "outputs": [
    {
     "output_type": "stream",
     "name": "stdout",
     "text": "(428, 240, 320, 3)\n(428,)\n"
    }
   ],
   "source": [
    "# Combining all the frames so I can display them as one image sequence\n",
    "\n",
    "all_frames = np.vstack((steering_frames_forward, steering_frames_left, steering_frames_right))\n",
    "all_labels = np.hstack((steering_labels_forward, steering_labels_left, steering_labels_right))\n",
    "print(all_frames.shape)\n",
    "print(all_labels.shape)\n",
    "\n",
    "steering_mode = 1\n",
    "index = 0\n",
    "while index < all_frames.shape[0]:\n",
    "\n",
    "    # This is so I can display on the screen what steering mode each frame belongs to.\n",
    "    if index == n_samples_f:\n",
    "        steering_mode = 2\n",
    "    elif index == (n_samples_f + n_samples_l):\n",
    "        steering_mode = 3\n",
    "\n",
    "    frame = all_frames[index]\n",
    "    label = all_labels[index]\n",
    "    index += 1\n",
    "\n",
    "    text = str(steering_mode) + \" d:\" + str(label)\n",
    "    frame = cv2.putText(frame, text, (10, 30), cv2.FONT_HERSHEY_PLAIN, 2, (0, 0, 255), thickness=3)\n",
    "\n",
    "    cv2.imshow(\"Collected frames\", frame)\n",
    "\n",
    "    if cv2.waitKey(30) == ord('q'):\n",
    "        break\n",
    "\n",
    "cv2.destroyAllWindows()\n"
   ]
  }
 ],
 "metadata": {
  "language_info": {
   "codemirror_mode": {
    "name": "ipython",
    "version": 3
   },
   "file_extension": ".py",
   "mimetype": "text/x-python",
   "name": "python",
   "nbconvert_exporter": "python",
   "pygments_lexer": "ipython3",
   "version": "3.6.10-final"
  },
  "orig_nbformat": 2,
  "kernelspec": {
   "name": "python361064bittfgpu2conda822001873f13490e9d0dea80ebe8f89f",
   "display_name": "Python 3.6.10 64-bit ('tf_gpu2': conda)"
  }
 },
 "nbformat": 4,
 "nbformat_minor": 2
}